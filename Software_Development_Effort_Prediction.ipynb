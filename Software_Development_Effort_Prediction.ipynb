{
  "cells": [
    {
      "cell_type": "markdown",
      "id": "56add347",
      "metadata": {
        "id": "56add347"
      },
      "source": [
        "The goal of this project is to design an intelligent model that predicts the development effort of a software project.\n"
      ]
    },
    {
      "cell_type": "markdown",
      "id": "065c4657",
      "metadata": {
        "id": "065c4657"
      },
      "source": [
        "# DATA IMPORT\n",
        "\n",
        "First, we load the data."
      ]
    },
    {
      "cell_type": "code",
      "execution_count": 1,
      "id": "f57a416c",
      "metadata": {
        "colab": {
          "base_uri": "https://localhost:8080/",
          "height": 708
        },
        "id": "f57a416c",
        "outputId": "9e84492d-fa6d-46ca-cb50-146d8b44a673"
      },
      "outputs": [
        {
          "output_type": "execute_result",
          "data": {
            "text/plain": [
              "    storyPoint  velocity  Effort\n",
              "0          156       2.7      63\n",
              "1          202       2.5      92\n",
              "2          173       3.3      56\n",
              "3          331       3.8      86\n",
              "4          124       4.2      32\n",
              "5          339       3.6      91\n",
              "6           97       3.4      35\n",
              "7          257       3.0      93\n",
              "8           84       2.4      36\n",
              "9          211       3.2      62\n",
              "10         131       3.2      45\n",
              "11         112       2.9      37\n",
              "12         101       2.9      32\n",
              "13          74       2.9      30\n",
              "14          62       2.9      21\n",
              "15         289       2.8     112\n",
              "16         113       2.8      39\n",
              "17         141       2.8      52\n",
              "18         213       2.8      80\n",
              "19         137       2.7      56\n",
              "20          91       2.7      35"
            ],
            "text/html": [
              "\n",
              "  <div id=\"df-a82fde9b-6c3e-49b0-be75-cbf5be22d12b\" class=\"colab-df-container\">\n",
              "    <div>\n",
              "<style scoped>\n",
              "    .dataframe tbody tr th:only-of-type {\n",
              "        vertical-align: middle;\n",
              "    }\n",
              "\n",
              "    .dataframe tbody tr th {\n",
              "        vertical-align: top;\n",
              "    }\n",
              "\n",
              "    .dataframe thead th {\n",
              "        text-align: right;\n",
              "    }\n",
              "</style>\n",
              "<table border=\"1\" class=\"dataframe\">\n",
              "  <thead>\n",
              "    <tr style=\"text-align: right;\">\n",
              "      <th></th>\n",
              "      <th>storyPoint</th>\n",
              "      <th>velocity</th>\n",
              "      <th>Effort</th>\n",
              "    </tr>\n",
              "  </thead>\n",
              "  <tbody>\n",
              "    <tr>\n",
              "      <th>0</th>\n",
              "      <td>156</td>\n",
              "      <td>2.7</td>\n",
              "      <td>63</td>\n",
              "    </tr>\n",
              "    <tr>\n",
              "      <th>1</th>\n",
              "      <td>202</td>\n",
              "      <td>2.5</td>\n",
              "      <td>92</td>\n",
              "    </tr>\n",
              "    <tr>\n",
              "      <th>2</th>\n",
              "      <td>173</td>\n",
              "      <td>3.3</td>\n",
              "      <td>56</td>\n",
              "    </tr>\n",
              "    <tr>\n",
              "      <th>3</th>\n",
              "      <td>331</td>\n",
              "      <td>3.8</td>\n",
              "      <td>86</td>\n",
              "    </tr>\n",
              "    <tr>\n",
              "      <th>4</th>\n",
              "      <td>124</td>\n",
              "      <td>4.2</td>\n",
              "      <td>32</td>\n",
              "    </tr>\n",
              "    <tr>\n",
              "      <th>5</th>\n",
              "      <td>339</td>\n",
              "      <td>3.6</td>\n",
              "      <td>91</td>\n",
              "    </tr>\n",
              "    <tr>\n",
              "      <th>6</th>\n",
              "      <td>97</td>\n",
              "      <td>3.4</td>\n",
              "      <td>35</td>\n",
              "    </tr>\n",
              "    <tr>\n",
              "      <th>7</th>\n",
              "      <td>257</td>\n",
              "      <td>3.0</td>\n",
              "      <td>93</td>\n",
              "    </tr>\n",
              "    <tr>\n",
              "      <th>8</th>\n",
              "      <td>84</td>\n",
              "      <td>2.4</td>\n",
              "      <td>36</td>\n",
              "    </tr>\n",
              "    <tr>\n",
              "      <th>9</th>\n",
              "      <td>211</td>\n",
              "      <td>3.2</td>\n",
              "      <td>62</td>\n",
              "    </tr>\n",
              "    <tr>\n",
              "      <th>10</th>\n",
              "      <td>131</td>\n",
              "      <td>3.2</td>\n",
              "      <td>45</td>\n",
              "    </tr>\n",
              "    <tr>\n",
              "      <th>11</th>\n",
              "      <td>112</td>\n",
              "      <td>2.9</td>\n",
              "      <td>37</td>\n",
              "    </tr>\n",
              "    <tr>\n",
              "      <th>12</th>\n",
              "      <td>101</td>\n",
              "      <td>2.9</td>\n",
              "      <td>32</td>\n",
              "    </tr>\n",
              "    <tr>\n",
              "      <th>13</th>\n",
              "      <td>74</td>\n",
              "      <td>2.9</td>\n",
              "      <td>30</td>\n",
              "    </tr>\n",
              "    <tr>\n",
              "      <th>14</th>\n",
              "      <td>62</td>\n",
              "      <td>2.9</td>\n",
              "      <td>21</td>\n",
              "    </tr>\n",
              "    <tr>\n",
              "      <th>15</th>\n",
              "      <td>289</td>\n",
              "      <td>2.8</td>\n",
              "      <td>112</td>\n",
              "    </tr>\n",
              "    <tr>\n",
              "      <th>16</th>\n",
              "      <td>113</td>\n",
              "      <td>2.8</td>\n",
              "      <td>39</td>\n",
              "    </tr>\n",
              "    <tr>\n",
              "      <th>17</th>\n",
              "      <td>141</td>\n",
              "      <td>2.8</td>\n",
              "      <td>52</td>\n",
              "    </tr>\n",
              "    <tr>\n",
              "      <th>18</th>\n",
              "      <td>213</td>\n",
              "      <td>2.8</td>\n",
              "      <td>80</td>\n",
              "    </tr>\n",
              "    <tr>\n",
              "      <th>19</th>\n",
              "      <td>137</td>\n",
              "      <td>2.7</td>\n",
              "      <td>56</td>\n",
              "    </tr>\n",
              "    <tr>\n",
              "      <th>20</th>\n",
              "      <td>91</td>\n",
              "      <td>2.7</td>\n",
              "      <td>35</td>\n",
              "    </tr>\n",
              "  </tbody>\n",
              "</table>\n",
              "</div>\n",
              "    <div class=\"colab-df-buttons\">\n",
              "\n",
              "  <div class=\"colab-df-container\">\n",
              "    <button class=\"colab-df-convert\" onclick=\"convertToInteractive('df-a82fde9b-6c3e-49b0-be75-cbf5be22d12b')\"\n",
              "            title=\"Convert this dataframe to an interactive table.\"\n",
              "            style=\"display:none;\">\n",
              "\n",
              "  <svg xmlns=\"http://www.w3.org/2000/svg\" height=\"24px\" viewBox=\"0 -960 960 960\">\n",
              "    <path d=\"M120-120v-720h720v720H120Zm60-500h600v-160H180v160Zm220 220h160v-160H400v160Zm0 220h160v-160H400v160ZM180-400h160v-160H180v160Zm440 0h160v-160H620v160ZM180-180h160v-160H180v160Zm440 0h160v-160H620v160Z\"/>\n",
              "  </svg>\n",
              "    </button>\n",
              "\n",
              "  <style>\n",
              "    .colab-df-container {\n",
              "      display:flex;\n",
              "      gap: 12px;\n",
              "    }\n",
              "\n",
              "    .colab-df-convert {\n",
              "      background-color: #E8F0FE;\n",
              "      border: none;\n",
              "      border-radius: 50%;\n",
              "      cursor: pointer;\n",
              "      display: none;\n",
              "      fill: #1967D2;\n",
              "      height: 32px;\n",
              "      padding: 0 0 0 0;\n",
              "      width: 32px;\n",
              "    }\n",
              "\n",
              "    .colab-df-convert:hover {\n",
              "      background-color: #E2EBFA;\n",
              "      box-shadow: 0px 1px 2px rgba(60, 64, 67, 0.3), 0px 1px 3px 1px rgba(60, 64, 67, 0.15);\n",
              "      fill: #174EA6;\n",
              "    }\n",
              "\n",
              "    .colab-df-buttons div {\n",
              "      margin-bottom: 4px;\n",
              "    }\n",
              "\n",
              "    [theme=dark] .colab-df-convert {\n",
              "      background-color: #3B4455;\n",
              "      fill: #D2E3FC;\n",
              "    }\n",
              "\n",
              "    [theme=dark] .colab-df-convert:hover {\n",
              "      background-color: #434B5C;\n",
              "      box-shadow: 0px 1px 3px 1px rgba(0, 0, 0, 0.15);\n",
              "      filter: drop-shadow(0px 1px 2px rgba(0, 0, 0, 0.3));\n",
              "      fill: #FFFFFF;\n",
              "    }\n",
              "  </style>\n",
              "\n",
              "    <script>\n",
              "      const buttonEl =\n",
              "        document.querySelector('#df-a82fde9b-6c3e-49b0-be75-cbf5be22d12b button.colab-df-convert');\n",
              "      buttonEl.style.display =\n",
              "        google.colab.kernel.accessAllowed ? 'block' : 'none';\n",
              "\n",
              "      async function convertToInteractive(key) {\n",
              "        const element = document.querySelector('#df-a82fde9b-6c3e-49b0-be75-cbf5be22d12b');\n",
              "        const dataTable =\n",
              "          await google.colab.kernel.invokeFunction('convertToInteractive',\n",
              "                                                    [key], {});\n",
              "        if (!dataTable) return;\n",
              "\n",
              "        const docLinkHtml = 'Like what you see? Visit the ' +\n",
              "          '<a target=\"_blank\" href=https://colab.research.google.com/notebooks/data_table.ipynb>data table notebook</a>'\n",
              "          + ' to learn more about interactive tables.';\n",
              "        element.innerHTML = '';\n",
              "        dataTable['output_type'] = 'display_data';\n",
              "        await google.colab.output.renderOutput(dataTable, element);\n",
              "        const docLink = document.createElement('div');\n",
              "        docLink.innerHTML = docLinkHtml;\n",
              "        element.appendChild(docLink);\n",
              "      }\n",
              "    </script>\n",
              "  </div>\n",
              "\n",
              "\n",
              "<div id=\"df-a556b671-195a-4ec6-90c8-9335afe47896\">\n",
              "  <button class=\"colab-df-quickchart\" onclick=\"quickchart('df-a556b671-195a-4ec6-90c8-9335afe47896')\"\n",
              "            title=\"Suggest charts\"\n",
              "            style=\"display:none;\">\n",
              "\n",
              "<svg xmlns=\"http://www.w3.org/2000/svg\" height=\"24px\"viewBox=\"0 0 24 24\"\n",
              "     width=\"24px\">\n",
              "    <g>\n",
              "        <path d=\"M19 3H5c-1.1 0-2 .9-2 2v14c0 1.1.9 2 2 2h14c1.1 0 2-.9 2-2V5c0-1.1-.9-2-2-2zM9 17H7v-7h2v7zm4 0h-2V7h2v10zm4 0h-2v-4h2v4z\"/>\n",
              "    </g>\n",
              "</svg>\n",
              "  </button>\n",
              "\n",
              "<style>\n",
              "  .colab-df-quickchart {\n",
              "      --bg-color: #E8F0FE;\n",
              "      --fill-color: #1967D2;\n",
              "      --hover-bg-color: #E2EBFA;\n",
              "      --hover-fill-color: #174EA6;\n",
              "      --disabled-fill-color: #AAA;\n",
              "      --disabled-bg-color: #DDD;\n",
              "  }\n",
              "\n",
              "  [theme=dark] .colab-df-quickchart {\n",
              "      --bg-color: #3B4455;\n",
              "      --fill-color: #D2E3FC;\n",
              "      --hover-bg-color: #434B5C;\n",
              "      --hover-fill-color: #FFFFFF;\n",
              "      --disabled-bg-color: #3B4455;\n",
              "      --disabled-fill-color: #666;\n",
              "  }\n",
              "\n",
              "  .colab-df-quickchart {\n",
              "    background-color: var(--bg-color);\n",
              "    border: none;\n",
              "    border-radius: 50%;\n",
              "    cursor: pointer;\n",
              "    display: none;\n",
              "    fill: var(--fill-color);\n",
              "    height: 32px;\n",
              "    padding: 0;\n",
              "    width: 32px;\n",
              "  }\n",
              "\n",
              "  .colab-df-quickchart:hover {\n",
              "    background-color: var(--hover-bg-color);\n",
              "    box-shadow: 0 1px 2px rgba(60, 64, 67, 0.3), 0 1px 3px 1px rgba(60, 64, 67, 0.15);\n",
              "    fill: var(--button-hover-fill-color);\n",
              "  }\n",
              "\n",
              "  .colab-df-quickchart-complete:disabled,\n",
              "  .colab-df-quickchart-complete:disabled:hover {\n",
              "    background-color: var(--disabled-bg-color);\n",
              "    fill: var(--disabled-fill-color);\n",
              "    box-shadow: none;\n",
              "  }\n",
              "\n",
              "  .colab-df-spinner {\n",
              "    border: 2px solid var(--fill-color);\n",
              "    border-color: transparent;\n",
              "    border-bottom-color: var(--fill-color);\n",
              "    animation:\n",
              "      spin 1s steps(1) infinite;\n",
              "  }\n",
              "\n",
              "  @keyframes spin {\n",
              "    0% {\n",
              "      border-color: transparent;\n",
              "      border-bottom-color: var(--fill-color);\n",
              "      border-left-color: var(--fill-color);\n",
              "    }\n",
              "    20% {\n",
              "      border-color: transparent;\n",
              "      border-left-color: var(--fill-color);\n",
              "      border-top-color: var(--fill-color);\n",
              "    }\n",
              "    30% {\n",
              "      border-color: transparent;\n",
              "      border-left-color: var(--fill-color);\n",
              "      border-top-color: var(--fill-color);\n",
              "      border-right-color: var(--fill-color);\n",
              "    }\n",
              "    40% {\n",
              "      border-color: transparent;\n",
              "      border-right-color: var(--fill-color);\n",
              "      border-top-color: var(--fill-color);\n",
              "    }\n",
              "    60% {\n",
              "      border-color: transparent;\n",
              "      border-right-color: var(--fill-color);\n",
              "    }\n",
              "    80% {\n",
              "      border-color: transparent;\n",
              "      border-right-color: var(--fill-color);\n",
              "      border-bottom-color: var(--fill-color);\n",
              "    }\n",
              "    90% {\n",
              "      border-color: transparent;\n",
              "      border-bottom-color: var(--fill-color);\n",
              "    }\n",
              "  }\n",
              "</style>\n",
              "\n",
              "  <script>\n",
              "    async function quickchart(key) {\n",
              "      const quickchartButtonEl =\n",
              "        document.querySelector('#' + key + ' button');\n",
              "      quickchartButtonEl.disabled = true;  // To prevent multiple clicks.\n",
              "      quickchartButtonEl.classList.add('colab-df-spinner');\n",
              "      try {\n",
              "        const charts = await google.colab.kernel.invokeFunction(\n",
              "            'suggestCharts', [key], {});\n",
              "      } catch (error) {\n",
              "        console.error('Error during call to suggestCharts:', error);\n",
              "      }\n",
              "      quickchartButtonEl.classList.remove('colab-df-spinner');\n",
              "      quickchartButtonEl.classList.add('colab-df-quickchart-complete');\n",
              "    }\n",
              "    (() => {\n",
              "      let quickchartButtonEl =\n",
              "        document.querySelector('#df-a556b671-195a-4ec6-90c8-9335afe47896 button');\n",
              "      quickchartButtonEl.style.display =\n",
              "        google.colab.kernel.accessAllowed ? 'block' : 'none';\n",
              "    })();\n",
              "  </script>\n",
              "</div>\n",
              "    </div>\n",
              "  </div>\n"
            ],
            "application/vnd.google.colaboratory.intrinsic+json": {
              "type": "dataframe",
              "variable_name": "df",
              "summary": "{\n  \"name\": \"df\",\n  \"rows\": 21,\n  \"fields\": [\n    {\n      \"column\": \"storyPoint\",\n      \"properties\": {\n        \"dtype\": \"number\",\n        \"std\": 82,\n        \"min\": 62,\n        \"max\": 339,\n        \"num_unique_values\": 21,\n        \"samples\": [\n          156,\n          141,\n          289\n        ],\n        \"semantic_type\": \"\",\n        \"description\": \"\"\n      }\n    },\n    {\n      \"column\": \"velocity\",\n      \"properties\": {\n        \"dtype\": \"number\",\n        \"std\": 0.4380693574135971,\n        \"min\": 2.4,\n        \"max\": 4.2,\n        \"num_unique_values\": 12,\n        \"samples\": [\n          2.9,\n          3.2,\n          2.7\n        ],\n        \"semantic_type\": \"\",\n        \"description\": \"\"\n      }\n    },\n    {\n      \"column\": \"Effort\",\n      \"properties\": {\n        \"dtype\": \"number\",\n        \"std\": 26,\n        \"min\": 21,\n        \"max\": 112,\n        \"num_unique_values\": 18,\n        \"samples\": [\n          63,\n          92,\n          36\n        ],\n        \"semantic_type\": \"\",\n        \"description\": \"\"\n      }\n    }\n  ]\n}"
            }
          },
          "metadata": {},
          "execution_count": 1
        }
      ],
      "source": [
        "import pandas as pd\n",
        "df=pd.read_csv(\"zia.csv\",sep = ';')\n",
        "df"
      ]
    },
    {
      "cell_type": "code",
      "execution_count": 2,
      "id": "45d14e17",
      "metadata": {
        "colab": {
          "base_uri": "https://localhost:8080/"
        },
        "id": "45d14e17",
        "outputId": "be9cafa9-84f1-4a83-c0cd-4dce4cc08cc1"
      },
      "outputs": [
        {
          "output_type": "stream",
          "name": "stdout",
          "text": [
            "    storyPoint  velocity  Effort  Team Size\n",
            "0          156       2.7      63          5\n",
            "1          202       2.5      92          5\n",
            "2          173       3.3      56          5\n",
            "3          331       3.8      86          5\n",
            "4          124       4.2      32          5\n",
            "5          339       3.6      91          7\n",
            "6           97       3.4      35          5\n",
            "7          257       3.0      93          5\n",
            "8           84       2.4      36          5\n",
            "9          211       3.2      62          5\n",
            "10         131       3.2      45          5\n",
            "11         112       2.9      37          5\n",
            "12         101       2.9      32          5\n",
            "13          74       2.9      30          7\n",
            "14          62       2.9      21          5\n",
            "15         289       2.8     112          5\n",
            "16         113       2.8      39          5\n",
            "17         141       2.8      52          5\n",
            "18         213       2.8      80          5\n",
            "19         137       2.7      56          5\n",
            "20          91       2.7      35          5\n"
          ]
        }
      ],
      "source": [
        "Team_Size = [5, 5,5,5,5, 7, 5, 5,5,5,5,5,5,7,5,5,5,5,5,5,5]\n",
        "\n",
        "df['Team Size'] = Team_Size\n",
        "\n",
        "# Observe the result\n",
        "print(df)\n"
      ]
    },
    {
      "cell_type": "markdown",
      "id": "7f189ac1",
      "metadata": {
        "id": "7f189ac1"
      },
      "source": [
        "Our dataset consists of 4 columns: Story Point representing the project size in story points, Velocity representing the quantity (in story points) the team can develop during a period, Team Size representing the development team size, and finally the Effort column, which we aim to predict its values.\n"
      ]
    },
    {
      "cell_type": "markdown",
      "id": "d2e94c5f",
      "metadata": {
        "id": "d2e94c5f"
      },
      "source": [
        "# DATA PREPROCESSING\n",
        "\n",
        "Before moving to the modeling phase, we need to clean our data! This preprocessing phase is crucial, as it determines 80% of the success of any algorithm. First, we check if there are any null values in our table.\n",
        "\n",
        "\n"
      ]
    },
    {
      "cell_type": "code",
      "execution_count": 3,
      "id": "fda2629f",
      "metadata": {
        "colab": {
          "base_uri": "https://localhost:8080/"
        },
        "id": "fda2629f",
        "outputId": "fc049545-3de2-4009-b5f9-0e45571d1165"
      },
      "outputs": [
        {
          "output_type": "stream",
          "name": "stdout",
          "text": [
            "storyPoint    0\n",
            "velocity      0\n",
            "Effort        0\n",
            "Team Size     0\n",
            "dtype: int64\n"
          ]
        }
      ],
      "source": [
        "print(df.isnull().sum())"
      ]
    },
    {
      "cell_type": "markdown",
      "id": "8ce2e7cb",
      "metadata": {
        "id": "8ce2e7cb"
      },
      "source": [
        "We can see that there are no null values in our table. Now, we can split our data into a training set and a test set to evaluate the quality of our model. Then, we can directly train the model and make predictions on the test set.\n"
      ]
    },
    {
      "cell_type": "code",
      "execution_count": 4,
      "id": "1904dc8f",
      "metadata": {
        "id": "1904dc8f"
      },
      "outputs": [],
      "source": [
        "x=df.drop(columns=[\"Effort\"])\n",
        "y=df[\"Effort\"]"
      ]
    },
    {
      "cell_type": "code",
      "execution_count": 5,
      "id": "06602e4c",
      "metadata": {
        "colab": {
          "base_uri": "https://localhost:8080/",
          "height": 708
        },
        "id": "06602e4c",
        "outputId": "e53f867b-3753-4f35-dc2c-87561b654d5d"
      },
      "outputs": [
        {
          "output_type": "execute_result",
          "data": {
            "text/plain": [
              "    storyPoint  velocity  Team Size\n",
              "0          156       2.7          5\n",
              "1          202       2.5          5\n",
              "2          173       3.3          5\n",
              "3          331       3.8          5\n",
              "4          124       4.2          5\n",
              "5          339       3.6          7\n",
              "6           97       3.4          5\n",
              "7          257       3.0          5\n",
              "8           84       2.4          5\n",
              "9          211       3.2          5\n",
              "10         131       3.2          5\n",
              "11         112       2.9          5\n",
              "12         101       2.9          5\n",
              "13          74       2.9          7\n",
              "14          62       2.9          5\n",
              "15         289       2.8          5\n",
              "16         113       2.8          5\n",
              "17         141       2.8          5\n",
              "18         213       2.8          5\n",
              "19         137       2.7          5\n",
              "20          91       2.7          5"
            ],
            "text/html": [
              "\n",
              "  <div id=\"df-5c865e97-83f4-4a42-818d-837eb662083a\" class=\"colab-df-container\">\n",
              "    <div>\n",
              "<style scoped>\n",
              "    .dataframe tbody tr th:only-of-type {\n",
              "        vertical-align: middle;\n",
              "    }\n",
              "\n",
              "    .dataframe tbody tr th {\n",
              "        vertical-align: top;\n",
              "    }\n",
              "\n",
              "    .dataframe thead th {\n",
              "        text-align: right;\n",
              "    }\n",
              "</style>\n",
              "<table border=\"1\" class=\"dataframe\">\n",
              "  <thead>\n",
              "    <tr style=\"text-align: right;\">\n",
              "      <th></th>\n",
              "      <th>storyPoint</th>\n",
              "      <th>velocity</th>\n",
              "      <th>Team Size</th>\n",
              "    </tr>\n",
              "  </thead>\n",
              "  <tbody>\n",
              "    <tr>\n",
              "      <th>0</th>\n",
              "      <td>156</td>\n",
              "      <td>2.7</td>\n",
              "      <td>5</td>\n",
              "    </tr>\n",
              "    <tr>\n",
              "      <th>1</th>\n",
              "      <td>202</td>\n",
              "      <td>2.5</td>\n",
              "      <td>5</td>\n",
              "    </tr>\n",
              "    <tr>\n",
              "      <th>2</th>\n",
              "      <td>173</td>\n",
              "      <td>3.3</td>\n",
              "      <td>5</td>\n",
              "    </tr>\n",
              "    <tr>\n",
              "      <th>3</th>\n",
              "      <td>331</td>\n",
              "      <td>3.8</td>\n",
              "      <td>5</td>\n",
              "    </tr>\n",
              "    <tr>\n",
              "      <th>4</th>\n",
              "      <td>124</td>\n",
              "      <td>4.2</td>\n",
              "      <td>5</td>\n",
              "    </tr>\n",
              "    <tr>\n",
              "      <th>5</th>\n",
              "      <td>339</td>\n",
              "      <td>3.6</td>\n",
              "      <td>7</td>\n",
              "    </tr>\n",
              "    <tr>\n",
              "      <th>6</th>\n",
              "      <td>97</td>\n",
              "      <td>3.4</td>\n",
              "      <td>5</td>\n",
              "    </tr>\n",
              "    <tr>\n",
              "      <th>7</th>\n",
              "      <td>257</td>\n",
              "      <td>3.0</td>\n",
              "      <td>5</td>\n",
              "    </tr>\n",
              "    <tr>\n",
              "      <th>8</th>\n",
              "      <td>84</td>\n",
              "      <td>2.4</td>\n",
              "      <td>5</td>\n",
              "    </tr>\n",
              "    <tr>\n",
              "      <th>9</th>\n",
              "      <td>211</td>\n",
              "      <td>3.2</td>\n",
              "      <td>5</td>\n",
              "    </tr>\n",
              "    <tr>\n",
              "      <th>10</th>\n",
              "      <td>131</td>\n",
              "      <td>3.2</td>\n",
              "      <td>5</td>\n",
              "    </tr>\n",
              "    <tr>\n",
              "      <th>11</th>\n",
              "      <td>112</td>\n",
              "      <td>2.9</td>\n",
              "      <td>5</td>\n",
              "    </tr>\n",
              "    <tr>\n",
              "      <th>12</th>\n",
              "      <td>101</td>\n",
              "      <td>2.9</td>\n",
              "      <td>5</td>\n",
              "    </tr>\n",
              "    <tr>\n",
              "      <th>13</th>\n",
              "      <td>74</td>\n",
              "      <td>2.9</td>\n",
              "      <td>7</td>\n",
              "    </tr>\n",
              "    <tr>\n",
              "      <th>14</th>\n",
              "      <td>62</td>\n",
              "      <td>2.9</td>\n",
              "      <td>5</td>\n",
              "    </tr>\n",
              "    <tr>\n",
              "      <th>15</th>\n",
              "      <td>289</td>\n",
              "      <td>2.8</td>\n",
              "      <td>5</td>\n",
              "    </tr>\n",
              "    <tr>\n",
              "      <th>16</th>\n",
              "      <td>113</td>\n",
              "      <td>2.8</td>\n",
              "      <td>5</td>\n",
              "    </tr>\n",
              "    <tr>\n",
              "      <th>17</th>\n",
              "      <td>141</td>\n",
              "      <td>2.8</td>\n",
              "      <td>5</td>\n",
              "    </tr>\n",
              "    <tr>\n",
              "      <th>18</th>\n",
              "      <td>213</td>\n",
              "      <td>2.8</td>\n",
              "      <td>5</td>\n",
              "    </tr>\n",
              "    <tr>\n",
              "      <th>19</th>\n",
              "      <td>137</td>\n",
              "      <td>2.7</td>\n",
              "      <td>5</td>\n",
              "    </tr>\n",
              "    <tr>\n",
              "      <th>20</th>\n",
              "      <td>91</td>\n",
              "      <td>2.7</td>\n",
              "      <td>5</td>\n",
              "    </tr>\n",
              "  </tbody>\n",
              "</table>\n",
              "</div>\n",
              "    <div class=\"colab-df-buttons\">\n",
              "\n",
              "  <div class=\"colab-df-container\">\n",
              "    <button class=\"colab-df-convert\" onclick=\"convertToInteractive('df-5c865e97-83f4-4a42-818d-837eb662083a')\"\n",
              "            title=\"Convert this dataframe to an interactive table.\"\n",
              "            style=\"display:none;\">\n",
              "\n",
              "  <svg xmlns=\"http://www.w3.org/2000/svg\" height=\"24px\" viewBox=\"0 -960 960 960\">\n",
              "    <path d=\"M120-120v-720h720v720H120Zm60-500h600v-160H180v160Zm220 220h160v-160H400v160Zm0 220h160v-160H400v160ZM180-400h160v-160H180v160Zm440 0h160v-160H620v160ZM180-180h160v-160H180v160Zm440 0h160v-160H620v160Z\"/>\n",
              "  </svg>\n",
              "    </button>\n",
              "\n",
              "  <style>\n",
              "    .colab-df-container {\n",
              "      display:flex;\n",
              "      gap: 12px;\n",
              "    }\n",
              "\n",
              "    .colab-df-convert {\n",
              "      background-color: #E8F0FE;\n",
              "      border: none;\n",
              "      border-radius: 50%;\n",
              "      cursor: pointer;\n",
              "      display: none;\n",
              "      fill: #1967D2;\n",
              "      height: 32px;\n",
              "      padding: 0 0 0 0;\n",
              "      width: 32px;\n",
              "    }\n",
              "\n",
              "    .colab-df-convert:hover {\n",
              "      background-color: #E2EBFA;\n",
              "      box-shadow: 0px 1px 2px rgba(60, 64, 67, 0.3), 0px 1px 3px 1px rgba(60, 64, 67, 0.15);\n",
              "      fill: #174EA6;\n",
              "    }\n",
              "\n",
              "    .colab-df-buttons div {\n",
              "      margin-bottom: 4px;\n",
              "    }\n",
              "\n",
              "    [theme=dark] .colab-df-convert {\n",
              "      background-color: #3B4455;\n",
              "      fill: #D2E3FC;\n",
              "    }\n",
              "\n",
              "    [theme=dark] .colab-df-convert:hover {\n",
              "      background-color: #434B5C;\n",
              "      box-shadow: 0px 1px 3px 1px rgba(0, 0, 0, 0.15);\n",
              "      filter: drop-shadow(0px 1px 2px rgba(0, 0, 0, 0.3));\n",
              "      fill: #FFFFFF;\n",
              "    }\n",
              "  </style>\n",
              "\n",
              "    <script>\n",
              "      const buttonEl =\n",
              "        document.querySelector('#df-5c865e97-83f4-4a42-818d-837eb662083a button.colab-df-convert');\n",
              "      buttonEl.style.display =\n",
              "        google.colab.kernel.accessAllowed ? 'block' : 'none';\n",
              "\n",
              "      async function convertToInteractive(key) {\n",
              "        const element = document.querySelector('#df-5c865e97-83f4-4a42-818d-837eb662083a');\n",
              "        const dataTable =\n",
              "          await google.colab.kernel.invokeFunction('convertToInteractive',\n",
              "                                                    [key], {});\n",
              "        if (!dataTable) return;\n",
              "\n",
              "        const docLinkHtml = 'Like what you see? Visit the ' +\n",
              "          '<a target=\"_blank\" href=https://colab.research.google.com/notebooks/data_table.ipynb>data table notebook</a>'\n",
              "          + ' to learn more about interactive tables.';\n",
              "        element.innerHTML = '';\n",
              "        dataTable['output_type'] = 'display_data';\n",
              "        await google.colab.output.renderOutput(dataTable, element);\n",
              "        const docLink = document.createElement('div');\n",
              "        docLink.innerHTML = docLinkHtml;\n",
              "        element.appendChild(docLink);\n",
              "      }\n",
              "    </script>\n",
              "  </div>\n",
              "\n",
              "\n",
              "<div id=\"df-49b42175-5d3b-4d5e-9f5a-00421d1d3fdd\">\n",
              "  <button class=\"colab-df-quickchart\" onclick=\"quickchart('df-49b42175-5d3b-4d5e-9f5a-00421d1d3fdd')\"\n",
              "            title=\"Suggest charts\"\n",
              "            style=\"display:none;\">\n",
              "\n",
              "<svg xmlns=\"http://www.w3.org/2000/svg\" height=\"24px\"viewBox=\"0 0 24 24\"\n",
              "     width=\"24px\">\n",
              "    <g>\n",
              "        <path d=\"M19 3H5c-1.1 0-2 .9-2 2v14c0 1.1.9 2 2 2h14c1.1 0 2-.9 2-2V5c0-1.1-.9-2-2-2zM9 17H7v-7h2v7zm4 0h-2V7h2v10zm4 0h-2v-4h2v4z\"/>\n",
              "    </g>\n",
              "</svg>\n",
              "  </button>\n",
              "\n",
              "<style>\n",
              "  .colab-df-quickchart {\n",
              "      --bg-color: #E8F0FE;\n",
              "      --fill-color: #1967D2;\n",
              "      --hover-bg-color: #E2EBFA;\n",
              "      --hover-fill-color: #174EA6;\n",
              "      --disabled-fill-color: #AAA;\n",
              "      --disabled-bg-color: #DDD;\n",
              "  }\n",
              "\n",
              "  [theme=dark] .colab-df-quickchart {\n",
              "      --bg-color: #3B4455;\n",
              "      --fill-color: #D2E3FC;\n",
              "      --hover-bg-color: #434B5C;\n",
              "      --hover-fill-color: #FFFFFF;\n",
              "      --disabled-bg-color: #3B4455;\n",
              "      --disabled-fill-color: #666;\n",
              "  }\n",
              "\n",
              "  .colab-df-quickchart {\n",
              "    background-color: var(--bg-color);\n",
              "    border: none;\n",
              "    border-radius: 50%;\n",
              "    cursor: pointer;\n",
              "    display: none;\n",
              "    fill: var(--fill-color);\n",
              "    height: 32px;\n",
              "    padding: 0;\n",
              "    width: 32px;\n",
              "  }\n",
              "\n",
              "  .colab-df-quickchart:hover {\n",
              "    background-color: var(--hover-bg-color);\n",
              "    box-shadow: 0 1px 2px rgba(60, 64, 67, 0.3), 0 1px 3px 1px rgba(60, 64, 67, 0.15);\n",
              "    fill: var(--button-hover-fill-color);\n",
              "  }\n",
              "\n",
              "  .colab-df-quickchart-complete:disabled,\n",
              "  .colab-df-quickchart-complete:disabled:hover {\n",
              "    background-color: var(--disabled-bg-color);\n",
              "    fill: var(--disabled-fill-color);\n",
              "    box-shadow: none;\n",
              "  }\n",
              "\n",
              "  .colab-df-spinner {\n",
              "    border: 2px solid var(--fill-color);\n",
              "    border-color: transparent;\n",
              "    border-bottom-color: var(--fill-color);\n",
              "    animation:\n",
              "      spin 1s steps(1) infinite;\n",
              "  }\n",
              "\n",
              "  @keyframes spin {\n",
              "    0% {\n",
              "      border-color: transparent;\n",
              "      border-bottom-color: var(--fill-color);\n",
              "      border-left-color: var(--fill-color);\n",
              "    }\n",
              "    20% {\n",
              "      border-color: transparent;\n",
              "      border-left-color: var(--fill-color);\n",
              "      border-top-color: var(--fill-color);\n",
              "    }\n",
              "    30% {\n",
              "      border-color: transparent;\n",
              "      border-left-color: var(--fill-color);\n",
              "      border-top-color: var(--fill-color);\n",
              "      border-right-color: var(--fill-color);\n",
              "    }\n",
              "    40% {\n",
              "      border-color: transparent;\n",
              "      border-right-color: var(--fill-color);\n",
              "      border-top-color: var(--fill-color);\n",
              "    }\n",
              "    60% {\n",
              "      border-color: transparent;\n",
              "      border-right-color: var(--fill-color);\n",
              "    }\n",
              "    80% {\n",
              "      border-color: transparent;\n",
              "      border-right-color: var(--fill-color);\n",
              "      border-bottom-color: var(--fill-color);\n",
              "    }\n",
              "    90% {\n",
              "      border-color: transparent;\n",
              "      border-bottom-color: var(--fill-color);\n",
              "    }\n",
              "  }\n",
              "</style>\n",
              "\n",
              "  <script>\n",
              "    async function quickchart(key) {\n",
              "      const quickchartButtonEl =\n",
              "        document.querySelector('#' + key + ' button');\n",
              "      quickchartButtonEl.disabled = true;  // To prevent multiple clicks.\n",
              "      quickchartButtonEl.classList.add('colab-df-spinner');\n",
              "      try {\n",
              "        const charts = await google.colab.kernel.invokeFunction(\n",
              "            'suggestCharts', [key], {});\n",
              "      } catch (error) {\n",
              "        console.error('Error during call to suggestCharts:', error);\n",
              "      }\n",
              "      quickchartButtonEl.classList.remove('colab-df-spinner');\n",
              "      quickchartButtonEl.classList.add('colab-df-quickchart-complete');\n",
              "    }\n",
              "    (() => {\n",
              "      let quickchartButtonEl =\n",
              "        document.querySelector('#df-49b42175-5d3b-4d5e-9f5a-00421d1d3fdd button');\n",
              "      quickchartButtonEl.style.display =\n",
              "        google.colab.kernel.accessAllowed ? 'block' : 'none';\n",
              "    })();\n",
              "  </script>\n",
              "</div>\n",
              "    </div>\n",
              "  </div>\n"
            ],
            "application/vnd.google.colaboratory.intrinsic+json": {
              "type": "dataframe",
              "variable_name": "x",
              "summary": "{\n  \"name\": \"x\",\n  \"rows\": 21,\n  \"fields\": [\n    {\n      \"column\": \"storyPoint\",\n      \"properties\": {\n        \"dtype\": \"number\",\n        \"std\": 82,\n        \"min\": 62,\n        \"max\": 339,\n        \"num_unique_values\": 21,\n        \"samples\": [\n          156,\n          141,\n          289\n        ],\n        \"semantic_type\": \"\",\n        \"description\": \"\"\n      }\n    },\n    {\n      \"column\": \"velocity\",\n      \"properties\": {\n        \"dtype\": \"number\",\n        \"std\": 0.4380693574135971,\n        \"min\": 2.4,\n        \"max\": 4.2,\n        \"num_unique_values\": 12,\n        \"samples\": [\n          2.9,\n          3.2,\n          2.7\n        ],\n        \"semantic_type\": \"\",\n        \"description\": \"\"\n      }\n    },\n    {\n      \"column\": \"Team Size\",\n      \"properties\": {\n        \"dtype\": \"number\",\n        \"std\": 0,\n        \"min\": 5,\n        \"max\": 7,\n        \"num_unique_values\": 2,\n        \"samples\": [\n          7,\n          5\n        ],\n        \"semantic_type\": \"\",\n        \"description\": \"\"\n      }\n    }\n  ]\n}"
            }
          },
          "metadata": {},
          "execution_count": 5
        }
      ],
      "source": [
        "x"
      ]
    },
    {
      "cell_type": "code",
      "execution_count": 6,
      "id": "c8994f23",
      "metadata": {
        "id": "c8994f23"
      },
      "outputs": [],
      "source": [
        "from sklearn.model_selection import train_test_split\n",
        "from sklearn.metrics import accuracy_score\n",
        "x_train , x_test,y_train , y_test=train_test_split(x,y,test_size=0.3,random_state=1)\n",
        "from sklearn import tree\n",
        "from sklearn.linear_model import LinearRegression\n",
        "from sklearn.neighbors import KNeighborsRegressor\n",
        "model = KNeighborsRegressor(n_neighbors=3)\n",
        "model2=tree.DecisionTreeRegressor()\n",
        "model3=LinearRegression()"
      ]
    },
    {
      "cell_type": "markdown",
      "id": "4e5bba57",
      "metadata": {
        "id": "4e5bba57"
      },
      "source": [
        "Now, we will evaluate our model using the following classifiers: KNN, Decision Trees, and Linear Regression. With a sufficiently high score and a conclusive confusion matrix, we can determine the best classifier.\n"
      ]
    },
    {
      "cell_type": "markdown",
      "id": "6410684d",
      "metadata": {
        "id": "6410684d"
      },
      "source": [
        "# MODEL TRAINING\n",
        "\n",
        "TECHNOLOGY 1: KNeighborsRegressor\n"
      ]
    },
    {
      "cell_type": "code",
      "source": [
        "#KNeighborsRegressor\n",
        "print(\"RESULTS GIVEN BY THE KNeighborsRegressor MODEL: \")\n",
        "model.fit(x_train,y_train)\n",
        "a=model.score(x_train,y_train)\n",
        "print(\"accuracy on train :\",a,\"%\")\n",
        "a2=model.score(x_test,y_test)\n",
        "print(\"accuracy on test :\",a2,\"%\")\n",
        "y_pred=model.predict(x_test)\n",
        "#calculate MMRE and Pred(25%) indicators\n",
        "ABE=abs(y_test-y_pred)\n",
        "MRE=ABE/y_test\n",
        "import statistics\n",
        "MMRE= statistics.mean(MRE)\n",
        "a=[]\n",
        "for i in MRE:\n",
        "    if i<=0.25:\n",
        "        a.append(1)\n",
        "    else:\n",
        "        a.append(0)\n",
        "\n",
        "Pred=sum(a)/len(a)\n",
        "print(\"the MMRE indicator of this model is :\",MMRE ,\"%\")\n",
        "print(\"the PRED(25%) indicator of this model is :\",Pred ,\"%\")\n"
      ],
      "metadata": {
        "colab": {
          "base_uri": "https://localhost:8080/"
        },
        "id": "zHBE3UG5ZIbs",
        "outputId": "10f2931d-0584-438d-8eab-365a3e016bbc"
      },
      "id": "zHBE3UG5ZIbs",
      "execution_count": 7,
      "outputs": [
        {
          "output_type": "stream",
          "name": "stdout",
          "text": [
            "RESULTS GIVEN BY THE KNeighborsRegressor MODEL: \n",
            "accuracy on train : 0.8464483418697295 %\n",
            "accuracy on test : 0.7968316716411592 %\n",
            "the MMRE indicator of this model is : 0.18363155240231652 %\n",
            "the PRED(25%) indicator of this model is : 0.7142857142857143 %\n"
          ]
        }
      ]
    },
    {
      "cell_type": "markdown",
      "id": "692a4a20",
      "metadata": {
        "id": "692a4a20"
      },
      "source": [
        "TECHNOLOGIE 2 : DecisionTreeRegressor"
      ]
    },
    {
      "cell_type": "code",
      "source": [
        "#DecisionTreeRegressor\n",
        "print(\"RESULTS GIVEN BY THE DecisionTreeRegressor MODEL: \")\n",
        "model2.fit(x_train,y_train)\n",
        "a=model2.score(x_train,y_train)\n",
        "print(\"accuracy on train :\",a,\"%\")\n",
        "a2=model2.score(x_test,y_test)\n",
        "print(\"accuracy on test :\",a2,\"%\")\n",
        "y_pred=model2.predict(x_test)\n",
        "#calculate MMRE and Pred(25%) indicators\n",
        "ABE=abs(y_test-y_pred)\n",
        "MRE=ABE/y_test\n",
        "import statistics\n",
        "MMRE= statistics.mean(MRE)\n",
        "a=[]\n",
        "for i in MRE:\n",
        "    if i<=0.25:\n",
        "        a.append(1)\n",
        "    else:\n",
        "        a.append(0)\n",
        "\n",
        "Pred=sum(a)/len(a)\n",
        "print(\"the MMRE indicator of this model is :\",MMRE ,\"%\")\n",
        "print(\"the PRED(25%) indicator of this model is :\",Pred ,\"%\")\n"
      ],
      "metadata": {
        "colab": {
          "base_uri": "https://localhost:8080/"
        },
        "id": "-DAc2kgKZ8qQ",
        "outputId": "6b4905ae-69e5-442d-93af-d40d623cddae"
      },
      "id": "-DAc2kgKZ8qQ",
      "execution_count": 8,
      "outputs": [
        {
          "output_type": "stream",
          "name": "stdout",
          "text": [
            "RESULTS GIVEN BY THE DecisionTreeRegressor MODEL: \n",
            "accuracy on train : 1.0 %\n",
            "accuracy on test : 0.7587873880739189 %\n",
            "the MMRE indicator of this model is : 0.2408068445028578 %\n",
            "the PRED(25%) indicator of this model is : 0.7142857142857143 %\n"
          ]
        }
      ]
    },
    {
      "cell_type": "markdown",
      "id": "715cc27b",
      "metadata": {
        "id": "715cc27b"
      },
      "source": [
        "TECHNOLOGIE 3 : Linear Regression"
      ]
    },
    {
      "cell_type": "code",
      "execution_count": null,
      "id": "b12b731e",
      "metadata": {
        "id": "b12b731e",
        "outputId": "660a9337-cacd-48cd-e705-d50ce4d0e993"
      },
      "outputs": [
        {
          "name": "stdout",
          "output_type": "stream",
          "text": [
            "RESULTATS DONNES PAR LE MODELE lINEAR REGRESSION : \n",
            "accuracy sur train : 0.9218128883532224 %\n",
            "accuracy sur test : 0.9374300534761124 %\n",
            "l'indicateur MMRE de ce model est : 0.11229893045123487 %\n",
            "l'indicateur PRED(25%) de ce model est : 0.8571428571428571 %\n"
          ]
        }
      ],
      "source": [
        "#Linear Regression\n",
        "print(\"RESULTATS DONNES PAR LE MODELE lINEAR REGRESSION : \")\n",
        "model3.fit(x_train,y_train)\n",
        "a=model3.score(x_train,y_train)\n",
        "print(\"accuracy sur train :\",a,\"%\")\n",
        "a2=model3.score(x_test,y_test)\n",
        "print(\"accuracy sur test :\",a2,\"%\")\n",
        "y_pred=model3.predict(x_test)\n",
        "#calcule des indicateurs MRE et ABE\n",
        "ABE=abs(y_test-y_pred)\n",
        "MRE=ABE/y_test\n",
        "import statistics\n",
        "MMRE= statistics.mean(MRE)\n",
        "a=[]\n",
        "for i in MRE:\n",
        "    if i<=0.25:\n",
        "        a.append(1)\n",
        "    else:\n",
        "        a.append(0)\n",
        "\n",
        "Pred=sum(a)/len(a)\n",
        "print(\"l'indicateur MMRE de ce model est :\",MMRE ,\"%\")\n",
        "print(\"l'indicateur PRED(25%) de ce model est :\",Pred ,\"%\")\n",
        "\n"
      ]
    },
    {
      "cell_type": "markdown",
      "id": "63705f38",
      "metadata": {
        "id": "63705f38"
      },
      "source": [
        "Now we will try to use one of the techniques to improve the model's performance, which is feature selection.\n"
      ]
    },
    {
      "cell_type": "markdown",
      "id": "e2b3fa87",
      "metadata": {
        "id": "e2b3fa87"
      },
      "source": [
        "Using the \"find_important_data\" function, we can select the features that contribute most to our prediction variable. This is done using the VarianceThreshold feature selector, which removes all features with variance less than the 'threshold' variance threshold.\n"
      ]
    },
    {
      "cell_type": "code",
      "source": [
        "# Accuracy after using feature selection\n",
        "from sklearn.feature_selection import VarianceThreshold\n",
        "def find_important_data(x_train, TR):\n",
        "    Filter=VarianceThreshold(threshold=TR)\n",
        "    Filtered_Data=Filter.fit_transform(x_train)\n",
        "    FS=list(Filter.get_support());\n",
        "    X=[]\n",
        "    for i in range(0,len(FS)):\n",
        "        if FS[i]==True:\n",
        "            X+=[i]\n",
        "    return tuple(X)\n",
        "\n",
        "print(x_train.var(axis=0))"
      ],
      "metadata": {
        "colab": {
          "base_uri": "https://localhost:8080/"
        },
        "id": "qt-cs7VsaZ6j",
        "outputId": "c3c664e9-777d-4432-f2d8-6199adeecaa7"
      },
      "id": "qt-cs7VsaZ6j",
      "execution_count": 9,
      "outputs": [
        {
          "output_type": "stream",
          "name": "stdout",
          "text": [
            "storyPoint    5771.670330\n",
            "velocity         0.229890\n",
            "Team Size        0.527473\n",
            "dtype: float64\n"
          ]
        }
      ]
    },
    {
      "cell_type": "code",
      "execution_count": 10,
      "id": "c2e7ef62",
      "metadata": {
        "colab": {
          "base_uri": "https://localhost:8080/"
        },
        "id": "c2e7ef62",
        "outputId": "00bfd1a5-91a7-49a1-e1dc-dadca1c81ef5"
      },
      "outputs": [
        {
          "output_type": "execute_result",
          "data": {
            "text/plain": [
              "storyPoint    9674.809524\n",
              "velocity         0.141429\n",
              "Team Size        0.000000\n",
              "dtype: float64"
            ]
          },
          "metadata": {},
          "execution_count": 10
        }
      ],
      "source": [
        "x_test.var(axis=0)"
      ]
    },
    {
      "cell_type": "code",
      "execution_count": 11,
      "id": "d8b26d8f",
      "metadata": {
        "colab": {
          "base_uri": "https://localhost:8080/"
        },
        "id": "d8b26d8f",
        "outputId": "028b5433-c900-45de-bf05-fa553afc9a98"
      },
      "outputs": [
        {
          "output_type": "execute_result",
          "data": {
            "text/plain": [
              "(14, 3)"
            ]
          },
          "metadata": {},
          "execution_count": 11
        }
      ],
      "source": [
        "x_train.shape"
      ]
    },
    {
      "cell_type": "code",
      "source": [
        "from sklearn.feature_selection import VarianceThreshold\n",
        "\n",
        "def trouver_donnees_importantes(x_train, TR):\n",
        "    Filter = VarianceThreshold(threshold=TR)\n",
        "    Donnees_Filtrees = Filter.fit_transform(x_train)\n",
        "    FS = list(Filter.get_support())\n",
        "    X = []\n",
        "    for i in range(0, len(FS)):\n",
        "        if FS[i] == True:\n",
        "            X += [i]\n",
        "    return tuple(X)\n"
      ],
      "metadata": {
        "id": "BjDHEJLDbX9J"
      },
      "id": "BjDHEJLDbX9J",
      "execution_count": 14,
      "outputs": []
    },
    {
      "cell_type": "code",
      "execution_count": 15,
      "id": "e31a9f31",
      "metadata": {
        "colab": {
          "base_uri": "https://localhost:8080/"
        },
        "id": "e31a9f31",
        "outputId": "02dec06e-d0d4-4c0a-ad95-5217489a7836"
      },
      "outputs": [
        {
          "output_type": "execute_result",
          "data": {
            "text/plain": [
              "(14, 2)"
            ]
          },
          "metadata": {},
          "execution_count": 15
        }
      ],
      "source": [
        "x2=trouver_donnees_importantes(x_train,0.4)\n",
        "x1_train=x_train.to_numpy()\n",
        "x3_train=x1_train[:,x2]\n",
        "x3_train.shape"
      ]
    },
    {
      "cell_type": "code",
      "execution_count": 16,
      "id": "e350c244",
      "metadata": {
        "colab": {
          "base_uri": "https://localhost:8080/"
        },
        "id": "e350c244",
        "outputId": "05c697f9-a3ba-496b-c9e7-a5e3d347ab4e"
      },
      "outputs": [
        {
          "output_type": "execute_result",
          "data": {
            "text/plain": [
              "(14,)"
            ]
          },
          "metadata": {},
          "execution_count": 16
        }
      ],
      "source": [
        "y_train.shape\n"
      ]
    },
    {
      "cell_type": "markdown",
      "source": [
        "#Results after using the Feature Selection technique:"
      ],
      "metadata": {
        "id": "CyIL_HBrbpiV"
      },
      "id": "CyIL_HBrbpiV"
    },
    {
      "cell_type": "markdown",
      "id": "0ba21feb",
      "metadata": {
        "id": "0ba21feb"
      },
      "source": [
        "TECHNOLOGIE 1: KNeighborsRegressor"
      ]
    },
    {
      "cell_type": "code",
      "source": [
        "#KNeighborsRegressor\n",
        "model.fit(x3_train,y_train)\n",
        "a=model.score(x3_train,y_train)\n",
        "print(\"accuracy score on train:\",a,\"%\")\n",
        "x1_test=x_test.to_numpy()\n",
        "x3_test=x1_test[:,x2]\n",
        "a2=model.score(x3_test,y_test)\n",
        "print(\"accuracy score on test:\",a2,\"%\")\n",
        "y_pred=model.predict(x3_test)\n",
        "# calculation of MMRE and Pred(25%) indicators\n",
        "ABE=abs(y_test-y_pred)\n",
        "MRE=ABE/y_test\n",
        "import statistics\n",
        "MMRE= statistics.mean(MRE)\n",
        "a=[]\n",
        "for i in MRE:\n",
        "    if i<=0.25:\n",
        "        a.append(1)\n",
        "    else:\n",
        "        a.append(0)\n",
        "\n",
        "Pred=sum(a)/len(a)\n",
        "print(\"the MMRE indicator of this model is:\",MMRE ,\"%\")\n",
        "print(\"the indicator PRED(25%) of this model is:\",Pred ,\"%\")"
      ],
      "metadata": {
        "colab": {
          "base_uri": "https://localhost:8080/"
        },
        "id": "y_IUv3uDbb3W",
        "outputId": "3ad6e786-e95e-425e-9fb1-827acf89265d"
      },
      "id": "y_IUv3uDbb3W",
      "execution_count": 17,
      "outputs": [
        {
          "output_type": "stream",
          "name": "stdout",
          "text": [
            "accuracy score on train: 0.8464483418697295 %\n",
            "accuracy score on test: 0.7968316716411592 %\n",
            "the MMRE indicator of this model is: 0.18363155240231652 %\n",
            "the indicator PRED(25%) of this model is: 0.7142857142857143 %\n"
          ]
        }
      ]
    },
    {
      "cell_type": "markdown",
      "id": "67a451bd",
      "metadata": {
        "id": "67a451bd"
      },
      "source": [
        "TECHNOLOGIE 2: DecisionTreeRegressor"
      ]
    },
    {
      "cell_type": "code",
      "execution_count": null,
      "id": "8f4b9382",
      "metadata": {
        "id": "8f4b9382",
        "outputId": "e4940894-8b2d-4f1b-e59b-28fa2fac3368"
      },
      "outputs": [
        {
          "name": "stdout",
          "output_type": "stream",
          "text": [
            "accuracy score sur train : 1.0 %\n",
            "accuracy score sur test : 0.8446370737283292 %\n",
            "l'indicateur MMRE de ce model est : 0.17914334189251133 %\n",
            "l'indicateur PRED(25%) de ce model est : 0.8571428571428571 %\n"
          ]
        }
      ],
      "source": [
        "#DecisionTreeRegressor\n",
        "model2.fit(x3_train,y_train)\n",
        "a=model2.score(x3_train,y_train)\n",
        "print(\"accuracy score sur train :\",a,\"%\")\n",
        "x1_test=x_test.to_numpy()\n",
        "x3_test=x1_test[:,x2]\n",
        "a2=model2.score(x3_test,y_test)\n",
        "print(\"accuracy score sur test :\",a2,\"%\")\n",
        "y_pred=model2.predict(x3_test)\n",
        "#calcule des indicateurs MMRE et Pred(25%)\n",
        "ABE=abs(y_test-y_pred)\n",
        "MRE=ABE/y_test\n",
        "import statistics\n",
        "MMRE= statistics.mean(MRE)\n",
        "a=[]\n",
        "for i in MRE:\n",
        "    if i<=0.25:\n",
        "        a.append(1)\n",
        "    else:\n",
        "        a.append(0)\n",
        "\n",
        "Pred=sum(a)/len(a)\n",
        "print(\"l'indicateur MMRE de ce model est :\",MMRE ,\"%\")\n",
        "print(\"l'indicateur PRED(25%) de ce model est :\",Pred ,\"%\")\n"
      ]
    },
    {
      "cell_type": "markdown",
      "id": "3648e30a",
      "metadata": {
        "id": "3648e30a"
      },
      "source": [
        "TECHNOLOGIE 3: Linear Regression"
      ]
    },
    {
      "cell_type": "code",
      "source": [
        "model3.fit(x3_train,y_train)\n",
        "a=model3.score(x3_train,y_train)\n",
        "print(\"accuracy score on train:\",a)\n",
        "x1_test=x_test.to_numpy()\n",
        "x3_test=x1_test[:,x2]\n",
        "a2=model3.score(x3_test,y_test)\n",
        "print(\"accuracy score on test:\",a2)\n",
        "y_pred=model3.predict(x3_test)\n",
        "# calculation of MMRE and Pred(25%) indicators\n",
        "ABE=abs(y_test-y_pred)\n",
        "MRE=ABE/y_test\n",
        "import statistics\n",
        "MMRE= statistics.mean(MRE)\n",
        "a=[]\n",
        "for i in MRE:\n",
        "    if i<=0.25:\n",
        "        a.append(1)\n",
        "    else:\n",
        "        a.append(0)\n",
        "\n",
        "Pred=sum(a)/len(a)\n",
        "print(\"the MMRE indicator of this model is:\",MMRE ,\"%\")\n",
        "print(\"the indicator PRED(25%) of this model is:\",Pred ,\"%\")\n"
      ],
      "metadata": {
        "colab": {
          "base_uri": "https://localhost:8080/"
        },
        "id": "DnrWRDnoby_0",
        "outputId": "fd5b34df-28e9-4d46-ae43-3d0df9be97b3"
      },
      "id": "DnrWRDnoby_0",
      "execution_count": 18,
      "outputs": [
        {
          "output_type": "stream",
          "name": "stdout",
          "text": [
            "accuracy score on train: 0.832078959502604\n",
            "accuracy score on test: 0.854037115102271\n",
            "the MMRE indicator of this model is: 0.14295503251606848 %\n",
            "the indicator PRED(25%) of this model is: 0.8571428571428571 %\n"
          ]
        }
      ]
    },
    {
      "cell_type": "markdown",
      "id": "34e9892f",
      "metadata": {
        "id": "34e9892f"
      },
      "source": [
        "# Conclusion\n"
      ]
    },
    {
      "cell_type": "markdown",
      "id": "eb3066a8",
      "metadata": {
        "id": "eb3066a8"
      },
      "source": [
        "The evaluation of various regression techniques for predicting software development effort unveils interesting insights. Linear regression and decision tree algorithms emerge as frontrunners, showcasing comparable performance metrics on the test dataset after employing feature selection. However, prior to feature selection, linear regression demonstrates superior accuracy (94%) compared to other methods such as Decision Tree (87%) and KNN (79%). Notably, linear regression also exhibits a lower Mean Magnitude of Relative Error (MMRE) at 11% pre-feature selection and 14% post-feature selection, indicating its robustness. By juxtaposing linear regression's performance pre and post feature selection, it becomes evident that linear regression consistently outperforms other techniques. Consequently, the study concludes that linear regression stands as the optimal classifier for this particular software development effort prediction task."
      ]
    }
  ],
  "metadata": {
    "kernelspec": {
      "display_name": "Python 3 (ipykernel)",
      "language": "python",
      "name": "python3"
    },
    "language_info": {
      "codemirror_mode": {
        "name": "ipython",
        "version": 3
      },
      "file_extension": ".py",
      "mimetype": "text/x-python",
      "name": "python",
      "nbconvert_exporter": "python",
      "pygments_lexer": "ipython3",
      "version": "3.9.7"
    },
    "colab": {
      "provenance": []
    }
  },
  "nbformat": 4,
  "nbformat_minor": 5
}