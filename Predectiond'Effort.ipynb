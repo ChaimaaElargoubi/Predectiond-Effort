{
 "cells": [
  {
   "cell_type": "markdown",
   "id": "2e2b5f9f",
   "metadata": {},
   "source": [
    "Prédiction de l’effort de développement d’un projet logiciel\n",
    "             EL ARGOUBI CHAIMAA\n",
    "  \n"
   ]
  },
  {
   "cell_type": "markdown",
   "id": "56add347",
   "metadata": {},
   "source": [
    "notre but c'est de concevoir un modèle intelligent qui permet de prédire l’effort de développement d’un projet logiciel"
   ]
  },
  {
   "cell_type": "markdown",
   "id": "065c4657",
   "metadata": {},
   "source": [
    "# IMPORTATION DES DONNEES"
   ]
  },
  {
   "cell_type": "markdown",
   "id": "506b6847",
   "metadata": {},
   "source": [
    "Dans un premier temps, on charge les données."
   ]
  },
  {
   "cell_type": "code",
   "execution_count": 141,
   "id": "f57a416c",
   "metadata": {},
   "outputs": [
    {
     "data": {
      "text/html": [
       "<div>\n",
       "<style scoped>\n",
       "    .dataframe tbody tr th:only-of-type {\n",
       "        vertical-align: middle;\n",
       "    }\n",
       "\n",
       "    .dataframe tbody tr th {\n",
       "        vertical-align: top;\n",
       "    }\n",
       "\n",
       "    .dataframe thead th {\n",
       "        text-align: right;\n",
       "    }\n",
       "</style>\n",
       "<table border=\"1\" class=\"dataframe\">\n",
       "  <thead>\n",
       "    <tr style=\"text-align: right;\">\n",
       "      <th></th>\n",
       "      <th>storyPoint</th>\n",
       "      <th>velocity</th>\n",
       "      <th>Effort</th>\n",
       "    </tr>\n",
       "  </thead>\n",
       "  <tbody>\n",
       "    <tr>\n",
       "      <th>0</th>\n",
       "      <td>156</td>\n",
       "      <td>2.7</td>\n",
       "      <td>63</td>\n",
       "    </tr>\n",
       "    <tr>\n",
       "      <th>1</th>\n",
       "      <td>202</td>\n",
       "      <td>2.5</td>\n",
       "      <td>92</td>\n",
       "    </tr>\n",
       "    <tr>\n",
       "      <th>2</th>\n",
       "      <td>173</td>\n",
       "      <td>3.3</td>\n",
       "      <td>56</td>\n",
       "    </tr>\n",
       "    <tr>\n",
       "      <th>3</th>\n",
       "      <td>331</td>\n",
       "      <td>3.8</td>\n",
       "      <td>86</td>\n",
       "    </tr>\n",
       "    <tr>\n",
       "      <th>4</th>\n",
       "      <td>124</td>\n",
       "      <td>4.2</td>\n",
       "      <td>32</td>\n",
       "    </tr>\n",
       "    <tr>\n",
       "      <th>5</th>\n",
       "      <td>339</td>\n",
       "      <td>3.6</td>\n",
       "      <td>91</td>\n",
       "    </tr>\n",
       "    <tr>\n",
       "      <th>6</th>\n",
       "      <td>97</td>\n",
       "      <td>3.4</td>\n",
       "      <td>35</td>\n",
       "    </tr>\n",
       "    <tr>\n",
       "      <th>7</th>\n",
       "      <td>257</td>\n",
       "      <td>3.0</td>\n",
       "      <td>93</td>\n",
       "    </tr>\n",
       "    <tr>\n",
       "      <th>8</th>\n",
       "      <td>84</td>\n",
       "      <td>2.4</td>\n",
       "      <td>36</td>\n",
       "    </tr>\n",
       "    <tr>\n",
       "      <th>9</th>\n",
       "      <td>211</td>\n",
       "      <td>3.2</td>\n",
       "      <td>62</td>\n",
       "    </tr>\n",
       "    <tr>\n",
       "      <th>10</th>\n",
       "      <td>131</td>\n",
       "      <td>3.2</td>\n",
       "      <td>45</td>\n",
       "    </tr>\n",
       "    <tr>\n",
       "      <th>11</th>\n",
       "      <td>112</td>\n",
       "      <td>2.9</td>\n",
       "      <td>37</td>\n",
       "    </tr>\n",
       "    <tr>\n",
       "      <th>12</th>\n",
       "      <td>101</td>\n",
       "      <td>2.9</td>\n",
       "      <td>32</td>\n",
       "    </tr>\n",
       "    <tr>\n",
       "      <th>13</th>\n",
       "      <td>74</td>\n",
       "      <td>2.9</td>\n",
       "      <td>30</td>\n",
       "    </tr>\n",
       "    <tr>\n",
       "      <th>14</th>\n",
       "      <td>62</td>\n",
       "      <td>2.9</td>\n",
       "      <td>21</td>\n",
       "    </tr>\n",
       "    <tr>\n",
       "      <th>15</th>\n",
       "      <td>289</td>\n",
       "      <td>2.8</td>\n",
       "      <td>112</td>\n",
       "    </tr>\n",
       "    <tr>\n",
       "      <th>16</th>\n",
       "      <td>113</td>\n",
       "      <td>2.8</td>\n",
       "      <td>39</td>\n",
       "    </tr>\n",
       "    <tr>\n",
       "      <th>17</th>\n",
       "      <td>141</td>\n",
       "      <td>2.8</td>\n",
       "      <td>52</td>\n",
       "    </tr>\n",
       "    <tr>\n",
       "      <th>18</th>\n",
       "      <td>213</td>\n",
       "      <td>2.8</td>\n",
       "      <td>80</td>\n",
       "    </tr>\n",
       "    <tr>\n",
       "      <th>19</th>\n",
       "      <td>137</td>\n",
       "      <td>2.7</td>\n",
       "      <td>56</td>\n",
       "    </tr>\n",
       "    <tr>\n",
       "      <th>20</th>\n",
       "      <td>91</td>\n",
       "      <td>2.7</td>\n",
       "      <td>35</td>\n",
       "    </tr>\n",
       "  </tbody>\n",
       "</table>\n",
       "</div>"
      ],
      "text/plain": [
       "    storyPoint  velocity  Effort\n",
       "0          156       2.7      63\n",
       "1          202       2.5      92\n",
       "2          173       3.3      56\n",
       "3          331       3.8      86\n",
       "4          124       4.2      32\n",
       "5          339       3.6      91\n",
       "6           97       3.4      35\n",
       "7          257       3.0      93\n",
       "8           84       2.4      36\n",
       "9          211       3.2      62\n",
       "10         131       3.2      45\n",
       "11         112       2.9      37\n",
       "12         101       2.9      32\n",
       "13          74       2.9      30\n",
       "14          62       2.9      21\n",
       "15         289       2.8     112\n",
       "16         113       2.8      39\n",
       "17         141       2.8      52\n",
       "18         213       2.8      80\n",
       "19         137       2.7      56\n",
       "20          91       2.7      35"
      ]
     },
     "execution_count": 141,
     "metadata": {},
     "output_type": "execute_result"
    }
   ],
   "source": [
    "import pandas as pd\n",
    "df=pd.read_csv(\"zia.csv\",sep = ';')\n",
    "df"
   ]
  },
  {
   "cell_type": "code",
   "execution_count": 121,
   "id": "45d14e17",
   "metadata": {},
   "outputs": [
    {
     "name": "stdout",
     "output_type": "stream",
     "text": [
      "    storyPoint  velocity  Effort  Team Size\n",
      "0          156       2.7      63          5\n",
      "1          202       2.5      92          5\n",
      "2          173       3.3      56          5\n",
      "3          331       3.8      86          5\n",
      "4          124       4.2      32          5\n",
      "5          339       3.6      91          7\n",
      "6           97       3.4      35          5\n",
      "7          257       3.0      93          5\n",
      "8           84       2.4      36          5\n",
      "9          211       3.2      62          5\n",
      "10         131       3.2      45          5\n",
      "11         112       2.9      37          5\n",
      "12         101       2.9      32          5\n",
      "13          74       2.9      30          7\n",
      "14          62       2.9      21          5\n",
      "15         289       2.8     112          5\n",
      "16         113       2.8      39          5\n",
      "17         141       2.8      52          5\n",
      "18         213       2.8      80          5\n",
      "19         137       2.7      56          5\n",
      "20          91       2.7      35          5\n"
     ]
    }
   ],
   "source": [
    "Team_Size = [5, 5,5,5,5, 7, 5, 5,5,5,5,5,5,7,5,5,5,5,5,5,5]\n",
    "\n",
    "df['Team Size'] = Team_Size\n",
    " \n",
    "# Observe the result\n",
    "print(df)\n"
   ]
  },
  {
   "cell_type": "markdown",
   "id": "7f189ac1",
   "metadata": {},
   "source": [
    "Notre dataset est constituée de 4 colonnes Story Point qui represente la taille du projet en story point,Velocity represente la quantité (en story point) que l’équipe\n",
    "peut développer pendant une période,Team Size represente l’effectif de l’équipe de développement et finalement on a la colonne Effort qu'on veut prédire ses valeurs"
   ]
  },
  {
   "cell_type": "markdown",
   "id": "d2e94c5f",
   "metadata": {},
   "source": [
    "# PREPROCESSING DES DONNEES\n",
    " \n"
   ]
  },
  {
   "cell_type": "markdown",
   "id": "925185db",
   "metadata": {},
   "source": [
    " Avant de passer à la phase de classification, il faut nettoyer nos données ! Cette phase, appelée preprocessing en anglais, est essentielle et sur elle repose 80% de la réussite de tel ou tel algorithme.\n",
    " Donc dans un premier temps on va vérifier si il y a des valeurs null dans notre table "
   ]
  },
  {
   "cell_type": "code",
   "execution_count": 124,
   "id": "fda2629f",
   "metadata": {},
   "outputs": [
    {
     "name": "stdout",
     "output_type": "stream",
     "text": [
      "storyPoint    0\n",
      "velocity      0\n",
      "Effort        0\n",
      "Team Size     0\n",
      "dtype: int64\n"
     ]
    }
   ],
   "source": [
    "print(df.isnull().sum())"
   ]
  },
  {
   "cell_type": "markdown",
   "id": "8ce2e7cb",
   "metadata": {},
   "source": [
    "On remarque trés bien qu'il n'ya aucune valeur nule dans notre table,donc on peut maintenant séparer nos données en un jeu d’entraînement et un jeu de test, afin d’évaluer la qualité de notre modèle, puis on peut directement entraîner le modèle et effectuer des prédictions sur le jeu de test. "
   ]
  },
  {
   "cell_type": "code",
   "execution_count": 129,
   "id": "1904dc8f",
   "metadata": {},
   "outputs": [],
   "source": [
    "x=df.drop(columns=[\"Effort\"])\n",
    "y=df[\"Effort\"]"
   ]
  },
  {
   "cell_type": "code",
   "execution_count": 126,
   "id": "06602e4c",
   "metadata": {},
   "outputs": [
    {
     "data": {
      "text/html": [
       "<div>\n",
       "<style scoped>\n",
       "    .dataframe tbody tr th:only-of-type {\n",
       "        vertical-align: middle;\n",
       "    }\n",
       "\n",
       "    .dataframe tbody tr th {\n",
       "        vertical-align: top;\n",
       "    }\n",
       "\n",
       "    .dataframe thead th {\n",
       "        text-align: right;\n",
       "    }\n",
       "</style>\n",
       "<table border=\"1\" class=\"dataframe\">\n",
       "  <thead>\n",
       "    <tr style=\"text-align: right;\">\n",
       "      <th></th>\n",
       "      <th>storyPoint</th>\n",
       "      <th>velocity</th>\n",
       "      <th>Team Size</th>\n",
       "    </tr>\n",
       "  </thead>\n",
       "  <tbody>\n",
       "    <tr>\n",
       "      <th>0</th>\n",
       "      <td>156</td>\n",
       "      <td>2.7</td>\n",
       "      <td>5</td>\n",
       "    </tr>\n",
       "    <tr>\n",
       "      <th>1</th>\n",
       "      <td>202</td>\n",
       "      <td>2.5</td>\n",
       "      <td>5</td>\n",
       "    </tr>\n",
       "    <tr>\n",
       "      <th>2</th>\n",
       "      <td>173</td>\n",
       "      <td>3.3</td>\n",
       "      <td>5</td>\n",
       "    </tr>\n",
       "    <tr>\n",
       "      <th>3</th>\n",
       "      <td>331</td>\n",
       "      <td>3.8</td>\n",
       "      <td>5</td>\n",
       "    </tr>\n",
       "    <tr>\n",
       "      <th>4</th>\n",
       "      <td>124</td>\n",
       "      <td>4.2</td>\n",
       "      <td>5</td>\n",
       "    </tr>\n",
       "    <tr>\n",
       "      <th>5</th>\n",
       "      <td>339</td>\n",
       "      <td>3.6</td>\n",
       "      <td>7</td>\n",
       "    </tr>\n",
       "    <tr>\n",
       "      <th>6</th>\n",
       "      <td>97</td>\n",
       "      <td>3.4</td>\n",
       "      <td>5</td>\n",
       "    </tr>\n",
       "    <tr>\n",
       "      <th>7</th>\n",
       "      <td>257</td>\n",
       "      <td>3.0</td>\n",
       "      <td>5</td>\n",
       "    </tr>\n",
       "    <tr>\n",
       "      <th>8</th>\n",
       "      <td>84</td>\n",
       "      <td>2.4</td>\n",
       "      <td>5</td>\n",
       "    </tr>\n",
       "    <tr>\n",
       "      <th>9</th>\n",
       "      <td>211</td>\n",
       "      <td>3.2</td>\n",
       "      <td>5</td>\n",
       "    </tr>\n",
       "    <tr>\n",
       "      <th>10</th>\n",
       "      <td>131</td>\n",
       "      <td>3.2</td>\n",
       "      <td>5</td>\n",
       "    </tr>\n",
       "    <tr>\n",
       "      <th>11</th>\n",
       "      <td>112</td>\n",
       "      <td>2.9</td>\n",
       "      <td>5</td>\n",
       "    </tr>\n",
       "    <tr>\n",
       "      <th>12</th>\n",
       "      <td>101</td>\n",
       "      <td>2.9</td>\n",
       "      <td>5</td>\n",
       "    </tr>\n",
       "    <tr>\n",
       "      <th>13</th>\n",
       "      <td>74</td>\n",
       "      <td>2.9</td>\n",
       "      <td>7</td>\n",
       "    </tr>\n",
       "    <tr>\n",
       "      <th>14</th>\n",
       "      <td>62</td>\n",
       "      <td>2.9</td>\n",
       "      <td>5</td>\n",
       "    </tr>\n",
       "    <tr>\n",
       "      <th>15</th>\n",
       "      <td>289</td>\n",
       "      <td>2.8</td>\n",
       "      <td>5</td>\n",
       "    </tr>\n",
       "    <tr>\n",
       "      <th>16</th>\n",
       "      <td>113</td>\n",
       "      <td>2.8</td>\n",
       "      <td>5</td>\n",
       "    </tr>\n",
       "    <tr>\n",
       "      <th>17</th>\n",
       "      <td>141</td>\n",
       "      <td>2.8</td>\n",
       "      <td>5</td>\n",
       "    </tr>\n",
       "    <tr>\n",
       "      <th>18</th>\n",
       "      <td>213</td>\n",
       "      <td>2.8</td>\n",
       "      <td>5</td>\n",
       "    </tr>\n",
       "    <tr>\n",
       "      <th>19</th>\n",
       "      <td>137</td>\n",
       "      <td>2.7</td>\n",
       "      <td>5</td>\n",
       "    </tr>\n",
       "    <tr>\n",
       "      <th>20</th>\n",
       "      <td>91</td>\n",
       "      <td>2.7</td>\n",
       "      <td>5</td>\n",
       "    </tr>\n",
       "  </tbody>\n",
       "</table>\n",
       "</div>"
      ],
      "text/plain": [
       "    storyPoint  velocity  Team Size\n",
       "0          156       2.7          5\n",
       "1          202       2.5          5\n",
       "2          173       3.3          5\n",
       "3          331       3.8          5\n",
       "4          124       4.2          5\n",
       "5          339       3.6          7\n",
       "6           97       3.4          5\n",
       "7          257       3.0          5\n",
       "8           84       2.4          5\n",
       "9          211       3.2          5\n",
       "10         131       3.2          5\n",
       "11         112       2.9          5\n",
       "12         101       2.9          5\n",
       "13          74       2.9          7\n",
       "14          62       2.9          5\n",
       "15         289       2.8          5\n",
       "16         113       2.8          5\n",
       "17         141       2.8          5\n",
       "18         213       2.8          5\n",
       "19         137       2.7          5\n",
       "20          91       2.7          5"
      ]
     },
     "execution_count": 126,
     "metadata": {},
     "output_type": "execute_result"
    }
   ],
   "source": [
    "x"
   ]
  },
  {
   "cell_type": "code",
   "execution_count": 142,
   "id": "c8994f23",
   "metadata": {},
   "outputs": [],
   "source": [
    "from sklearn.model_selection import train_test_split\n",
    "from sklearn.metrics import accuracy_score\n",
    "x_train , x_test,y_train , y_test=train_test_split(x,y,test_size=0.3,random_state=1)\n",
    "from sklearn import tree\n",
    "from sklearn.linear_model import LinearRegression\n",
    "from sklearn.neighbors import KNeighborsRegressor\n",
    "model = KNeighborsRegressor(n_neighbors=3)\n",
    "model2=tree.DecisionTreeRegressor()\n",
    "model3=LinearRegression()"
   ]
  },
  {
   "cell_type": "markdown",
   "id": "4e5bba57",
   "metadata": {},
   "source": [
    "Alors on va évaluer notre modèle à l’aide des classifieurs suivants : KNN,Arbres de décisions et Régression Lineaire.\n",
    "Avec un score  assez élevé et une matrice de confusion concluante, on peut déduire quel est e meilleur classifieur\n"
   ]
  },
  {
   "cell_type": "markdown",
   "id": "6410684d",
   "metadata": {},
   "source": [
    "# ENTRAINEMENT DU MODELE"
   ]
  },
  {
   "cell_type": "markdown",
   "id": "7e7b58f5",
   "metadata": {},
   "source": [
    "TECHNOLOGIE 1 : KNeighborsRegressor"
   ]
  },
  {
   "cell_type": "code",
   "execution_count": 138,
   "id": "f0534cfe",
   "metadata": {},
   "outputs": [
    {
     "name": "stdout",
     "output_type": "stream",
     "text": [
      "RESULTATS DONNES PAR LE MODELE KNeighborsRegressor : \n",
      "accuracy sur train : 0.8464483418697295 %\n",
      "accuracy sur test : 0.7968316716411592 %\n",
      "l'indicateur MMRE de ce model est : 0.18363155240231652 %\n",
      "l'indicateur PRED(25%) de ce model est : 0.7142857142857143 %\n"
     ]
    }
   ],
   "source": [
    "#KNeighborsRegressor\n",
    "print(\"RESULTATS DONNES PAR LE MODELE KNeighborsRegressor : \")\n",
    "model.fit(x_train,y_train)\n",
    "a=model.score(x_train,y_train)\n",
    "print(\"accuracy sur train :\",a,\"%\")\n",
    "a2=model.score(x_test,y_test)\n",
    "print(\"accuracy sur test :\",a2,\"%\")\n",
    "y_pred=model.predict(x_test)\n",
    "#calcule des indicateurs MMRE et Pred(25%)\n",
    "ABE=abs(y_test-y_pred)\n",
    "MRE=ABE/y_test\n",
    "import statistics\n",
    "MMRE= statistics.mean(MRE)\n",
    "a=[]\n",
    "for i in MRE:\n",
    "    if i<=0.25:\n",
    "        a.append(1)\n",
    "    else:\n",
    "        a.append(0)\n",
    "\n",
    "Pred=sum(a)/len(a)   \n",
    "print(\"l'indicateur MMRE de ce model est :\",MMRE ,\"%\")\n",
    "print(\"l'indicateur PRED(25%) de ce model est :\",Pred ,\"%\")"
   ]
  },
  {
   "cell_type": "markdown",
   "id": "692a4a20",
   "metadata": {},
   "source": [
    "TECHNOLOGIE 2 : DecisionTreeRegressor"
   ]
  },
  {
   "cell_type": "code",
   "execution_count": 139,
   "id": "08cef2d6",
   "metadata": {},
   "outputs": [
    {
     "name": "stdout",
     "output_type": "stream",
     "text": [
      "RESULTATS DONNES PAR LE MODELE DecisionTreeRegressor : \n",
      "accuracy sur train : 1.0 %\n",
      "accuracy sur test : 0.8746427891026862 %\n",
      "l'indicateur MMRE de ce model est : 0.16842905617822562 %\n",
      "l'indicateur PRED(25%) de ce model est : 0.8571428571428571 %\n"
     ]
    }
   ],
   "source": [
    "#DecisionTreeRegressor\n",
    "print(\"RESULTATS DONNES PAR LE MODELE DecisionTreeRegressor : \")\n",
    "model2.fit(x_train,y_train)\n",
    "a=model2.score(x_train,y_train)\n",
    "print(\"accuracy sur train :\",a,\"%\")\n",
    "a2=model2.score(x_test,y_test)\n",
    "print(\"accuracy sur test :\",a2,\"%\")\n",
    "y_pred=model2.predict(x_test)\n",
    "#calcule des indicateurs MMRE et Pred(25%)\n",
    "ABE=abs(y_test-y_pred)\n",
    "MRE=ABE/y_test\n",
    "import statistics\n",
    "MMRE= statistics.mean(MRE)\n",
    "a=[]\n",
    "for i in MRE:\n",
    "    if i<=0.25:\n",
    "        a.append(1)\n",
    "    else:\n",
    "        a.append(0)\n",
    "\n",
    "Pred=sum(a)/len(a)   \n",
    "print(\"l'indicateur MMRE de ce model est :\",MMRE ,\"%\")\n",
    "print(\"l'indicateur PRED(25%) de ce model est :\",Pred ,\"%\")"
   ]
  },
  {
   "cell_type": "markdown",
   "id": "715cc27b",
   "metadata": {},
   "source": [
    "TECHNOLOGIE 3 : Linear Regression"
   ]
  },
  {
   "cell_type": "code",
   "execution_count": 140,
   "id": "b12b731e",
   "metadata": {},
   "outputs": [
    {
     "name": "stdout",
     "output_type": "stream",
     "text": [
      "RESULTATS DONNES PAR LE MODELE lINEAR REGRESSION : \n",
      "accuracy sur train : 0.9218128883532224 %\n",
      "accuracy sur test : 0.9374300534761124 %\n",
      "l'indicateur MMRE de ce model est : 0.11229893045123487 %\n",
      "l'indicateur PRED(25%) de ce model est : 0.8571428571428571 %\n"
     ]
    }
   ],
   "source": [
    "#Linear Regression\n",
    "print(\"RESULTATS DONNES PAR LE MODELE lINEAR REGRESSION : \")\n",
    "model3.fit(x_train,y_train)\n",
    "a=model3.score(x_train,y_train)\n",
    "print(\"accuracy sur train :\",a,\"%\")\n",
    "a2=model3.score(x_test,y_test)\n",
    "print(\"accuracy sur test :\",a2,\"%\")\n",
    "y_pred=model3.predict(x_test)\n",
    "#calcule des indicateurs MRE et ABE\n",
    "ABE=abs(y_test-y_pred)\n",
    "MRE=ABE/y_test\n",
    "import statistics\n",
    "MMRE= statistics.mean(MRE)\n",
    "a=[]\n",
    "for i in MRE:\n",
    "    if i<=0.25:\n",
    "        a.append(1)\n",
    "    else:\n",
    "        a.append(0)\n",
    "\n",
    "Pred=sum(a)/len(a)   \n",
    "print(\"l'indicateur MMRE de ce model est :\",MMRE ,\"%\")\n",
    "print(\"l'indicateur PRED(25%) de ce model est :\",Pred ,\"%\")\n",
    "\n"
   ]
  },
  {
   "cell_type": "markdown",
   "id": "63705f38",
   "metadata": {},
   "source": [
    "Maintenant on va essayer d'utiliser l'une des techniques permettant d’améliorer la performance du modèle, c'est la feature selection"
   ]
  },
  {
   "cell_type": "markdown",
   "id": "e2b3fa87",
   "metadata": {},
   "source": [
    "Pour ce faire j'ai utiliser la fonction suivante \"trouver_donnees importantes\" qui va nous permettre de sélectionner\n",
    "les fonctionnalités qui contribuent le plus à notre variable de prédiction.et ceci en utilisant le Sélecteur de fonction VarianceThreshold(threshold) qui supprime toutes les fonctions à variance inférieur au seuil de variance'threshold'."
   ]
  },
  {
   "cell_type": "code",
   "execution_count": 143,
   "id": "1282508d",
   "metadata": {},
   "outputs": [],
   "source": [
    "#accuracy apres l'utilisation du feature selection\n",
    "from sklearn.feature_selection import VarianceThreshold\n",
    "def trouver_donnees_importantes(x_train,TR):\n",
    "    Filtre=VarianceThreshold(threshold=TR)\n",
    "    Donnees_Filtrees=Filtre.fit_transform(x_train)\n",
    "    FS=list(Filtre.get_support());\n",
    "    X=[]\n",
    "    for i in range(0,len(FS)):\n",
    "        if FS[i]==True:\n",
    "            X+=[i]\n",
    "    return tuple(X)\n"
   ]
  },
  {
   "cell_type": "code",
   "execution_count": 144,
   "id": "42460b47",
   "metadata": {},
   "outputs": [
    {
     "name": "stdout",
     "output_type": "stream",
     "text": [
      "storyPoint    5771.670330\n",
      "velocity         0.229890\n",
      "Team Size        0.527473\n",
      "dtype: float64\n"
     ]
    }
   ],
   "source": [
    "print(x_train.var(axis=0))"
   ]
  },
  {
   "cell_type": "code",
   "execution_count": 145,
   "id": "c2e7ef62",
   "metadata": {},
   "outputs": [
    {
     "data": {
      "text/plain": [
       "storyPoint    9674.809524\n",
       "velocity         0.141429\n",
       "Team Size        0.000000\n",
       "dtype: float64"
      ]
     },
     "execution_count": 145,
     "metadata": {},
     "output_type": "execute_result"
    }
   ],
   "source": [
    "x_test.var(axis=0)"
   ]
  },
  {
   "cell_type": "code",
   "execution_count": 146,
   "id": "d8b26d8f",
   "metadata": {},
   "outputs": [
    {
     "data": {
      "text/plain": [
       "(14, 3)"
      ]
     },
     "execution_count": 146,
     "metadata": {},
     "output_type": "execute_result"
    }
   ],
   "source": [
    "x_train.shape"
   ]
  },
  {
   "cell_type": "code",
   "execution_count": 147,
   "id": "e31a9f31",
   "metadata": {},
   "outputs": [
    {
     "data": {
      "text/plain": [
       "(14, 2)"
      ]
     },
     "execution_count": 147,
     "metadata": {},
     "output_type": "execute_result"
    }
   ],
   "source": [
    "x2=trouver_donnees_importantes(x_train,0.4)\n",
    "x1_train=x_train.to_numpy()\n",
    "x3_train=x1_train[:,x2]\n",
    "x3_train.shape"
   ]
  },
  {
   "cell_type": "code",
   "execution_count": 148,
   "id": "e350c244",
   "metadata": {},
   "outputs": [
    {
     "data": {
      "text/plain": [
       "(14,)"
      ]
     },
     "execution_count": 148,
     "metadata": {},
     "output_type": "execute_result"
    }
   ],
   "source": [
    "y_train.shape\n"
   ]
  },
  {
   "cell_type": "markdown",
   "id": "0330fe41",
   "metadata": {},
   "source": [
    "Résultats apres utilisation de la technique Feature Selection:"
   ]
  },
  {
   "cell_type": "markdown",
   "id": "0ba21feb",
   "metadata": {},
   "source": [
    "TECHNOLOGIE 1: KNeighborsRegressor"
   ]
  },
  {
   "cell_type": "code",
   "execution_count": 149,
   "id": "f739bfed",
   "metadata": {},
   "outputs": [
    {
     "name": "stdout",
     "output_type": "stream",
     "text": [
      "accuracy score sur train : 0.8464483418697295 %\n",
      "accuracy score sur test : 0.7968316716411592 %\n",
      "l'indicateur MMRE de ce model est : 0.18363155240231652 %\n",
      "l'indicateur PRED(25%) de ce model est : 0.7142857142857143 %\n"
     ]
    }
   ],
   "source": [
    "#KNeighborsRegressor\n",
    "model.fit(x3_train,y_train)\n",
    "a=model.score(x3_train,y_train)\n",
    "print(\"accuracy score sur train :\",a,\"%\")\n",
    "x1_test=x_test.to_numpy()\n",
    "x3_test=x1_test[:,x2]\n",
    "a2=model.score(x3_test,y_test)\n",
    "print(\"accuracy score sur test :\",a2,\"%\")\n",
    "y_pred=model.predict(x3_test)\n",
    "#calcule des indicateurs MMRE et Pred(25%)\n",
    "ABE=abs(y_test-y_pred)\n",
    "MRE=ABE/y_test\n",
    "import statistics\n",
    "MMRE= statistics.mean(MRE)\n",
    "a=[]\n",
    "for i in MRE:\n",
    "    if i<=0.25:\n",
    "        a.append(1)\n",
    "    else:\n",
    "        a.append(0)\n",
    "\n",
    "Pred=sum(a)/len(a)   \n",
    "print(\"l'indicateur MMRE de ce model est :\",MMRE ,\"%\")\n",
    "print(\"l'indicateur PRED(25%) de ce model est :\",Pred ,\"%\")\n"
   ]
  },
  {
   "cell_type": "markdown",
   "id": "67a451bd",
   "metadata": {},
   "source": [
    "TECHNOLOGIE 2: DecisionTreeRegressor"
   ]
  },
  {
   "cell_type": "code",
   "execution_count": 154,
   "id": "8f4b9382",
   "metadata": {},
   "outputs": [
    {
     "name": "stdout",
     "output_type": "stream",
     "text": [
      "accuracy score sur train : 1.0 %\n",
      "accuracy score sur test : 0.8446370737283292 %\n",
      "l'indicateur MMRE de ce model est : 0.17914334189251133 %\n",
      "l'indicateur PRED(25%) de ce model est : 0.8571428571428571 %\n"
     ]
    }
   ],
   "source": [
    "#DecisionTreeRegressor \n",
    "model2.fit(x3_train,y_train)\n",
    "a=model2.score(x3_train,y_train)\n",
    "print(\"accuracy score sur train :\",a,\"%\")\n",
    "x1_test=x_test.to_numpy()\n",
    "x3_test=x1_test[:,x2]\n",
    "a2=model2.score(x3_test,y_test)\n",
    "print(\"accuracy score sur test :\",a2,\"%\")\n",
    "y_pred=model2.predict(x3_test)\n",
    "#calcule des indicateurs MMRE et Pred(25%)\n",
    "ABE=abs(y_test-y_pred)\n",
    "MRE=ABE/y_test\n",
    "import statistics\n",
    "MMRE= statistics.mean(MRE)\n",
    "a=[]\n",
    "for i in MRE:\n",
    "    if i<=0.25:\n",
    "        a.append(1)\n",
    "    else:\n",
    "        a.append(0)\n",
    "\n",
    "Pred=sum(a)/len(a)   \n",
    "print(\"l'indicateur MMRE de ce model est :\",MMRE ,\"%\")\n",
    "print(\"l'indicateur PRED(25%) de ce model est :\",Pred ,\"%\")\n"
   ]
  },
  {
   "cell_type": "markdown",
   "id": "3648e30a",
   "metadata": {},
   "source": [
    "TECHNOLOGIE 3: Linear Regression "
   ]
  },
  {
   "cell_type": "code",
   "execution_count": 155,
   "id": "f0faa54c",
   "metadata": {},
   "outputs": [
    {
     "name": "stdout",
     "output_type": "stream",
     "text": [
      "accuracy score sur train : 0.8320789595026039\n",
      "accuracy score sur test : 0.8540371151022709\n",
      "l'indicateur MMRE de ce model est : 0.14295503251606842 %\n",
      "l'indicateur PRED(25%) de ce model est : 0.8571428571428571 %\n"
     ]
    }
   ],
   "source": [
    "#Linear Regression \n",
    "model3.fit(x3_train,y_train)\n",
    "a=model3.score(x3_train,y_train)\n",
    "print(\"accuracy score sur train :\",a)\n",
    "x1_test=x_test.to_numpy()\n",
    "x3_test=x1_test[:,x2]\n",
    "a2=model3.score(x3_test,y_test)\n",
    "print(\"accuracy score sur test :\",a2)\n",
    "y_pred=model3.predict(x3_test)\n",
    "#calcule des indicateurs MMRE et Pred(25%)\n",
    "ABE=abs(y_test-y_pred)\n",
    "MRE=ABE/y_test\n",
    "import statistics\n",
    "MMRE= statistics.mean(MRE)\n",
    "a=[]\n",
    "for i in MRE:\n",
    "    if i<=0.25:\n",
    "        a.append(1)\n",
    "    else:\n",
    "        a.append(0)\n",
    "\n",
    "Pred=sum(a)/len(a)   \n",
    "print(\"l'indicateur MMRE de ce model est :\",MMRE ,\"%\")\n",
    "print(\"l'indicateur PRED(25%) de ce model est :\",Pred ,\"%\")\n"
   ]
  },
  {
   "cell_type": "markdown",
   "id": "34e9892f",
   "metadata": {},
   "source": [
    "# Conclusion\n"
   ]
  },
  {
   "cell_type": "markdown",
   "id": "eb3066a8",
   "metadata": {},
   "source": [
    "D'aprés les résultats obtenus on remarque que les valeurs de l'accuracy sur test et de l'indicateur Pred(25%) données par  regression lineaire et decision tree apres utilisation de la feature selection  sont presque les memes, mais avant utilisation de feature selection, la regression lineaire donne une valeure de l'accuracy(0.94%) plus élevée que celle donnée par les autres techniques Decision Tree(0.87%) et KNN(0.79%).\n",
    "On remarque aussi que la regression lineaire donne une meilleur valeur de l'indicateur MMRE(0.11% avant feature selection et 0.14% apres) en comparaison avec les autres techniques.\n",
    "En faisant la comparaison entre les valeurs données par Regression Lineaire avant et apres utilisation de feature selection \n",
    "on peut voir clairement que c'avant que la regression lineaire donne des meilleurs valeurs .\n",
    "Finalement, on peut déduire que la regression lineaire est le meilleur classifieur pour ce problème"
   ]
  }
 ],
 "metadata": {
  "kernelspec": {
   "display_name": "Python 3 (ipykernel)",
   "language": "python",
   "name": "python3"
  },
  "language_info": {
   "codemirror_mode": {
    "name": "ipython",
    "version": 3
   },
   "file_extension": ".py",
   "mimetype": "text/x-python",
   "name": "python",
   "nbconvert_exporter": "python",
   "pygments_lexer": "ipython3",
   "version": "3.9.7"
  }
 },
 "nbformat": 4,
 "nbformat_minor": 5
}
